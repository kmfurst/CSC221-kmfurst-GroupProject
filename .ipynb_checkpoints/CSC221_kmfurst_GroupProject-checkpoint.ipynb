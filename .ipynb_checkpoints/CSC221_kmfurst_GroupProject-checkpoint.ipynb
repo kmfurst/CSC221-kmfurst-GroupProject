{
 "cells": [
  {
   "cell_type": "code",
   "execution_count": null,
   "id": "2a4de466",
   "metadata": {},
   "outputs": [],
   "source": [
    "#refer to lab 8 screen scraping\n",
    "#https://en.wikipedia.org/wiki/List_of_best-selling_books"
   ]
  },
  {
   "cell_type": "code",
   "execution_count": null,
   "id": "911f226e",
   "metadata": {},
   "outputs": [],
   "source": []
  }
 ],
 "metadata": {
  "kernelspec": {
   "display_name": "Python 3",
   "language": "python",
   "name": "python3"
  },
  "language_info": {
   "codemirror_mode": {
    "name": "ipython",
    "version": 3
   },
   "file_extension": ".py",
   "mimetype": "text/x-python",
   "name": "python",
   "nbconvert_exporter": "python",
   "pygments_lexer": "ipython3",
   "version": "3.8.8"
  }
 },
 "nbformat": 4,
 "nbformat_minor": 5
}
